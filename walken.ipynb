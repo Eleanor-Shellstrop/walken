{
 "cells": [
  {
   "cell_type": "markdown",
   "id": "ab0584a9",
   "metadata": {},
   "source": [
    "# INTRODUCTION"
   ]
  },
  {
   "cell_type": "markdown",
   "id": "82d80ad2",
   "metadata": {},
   "source": [
    "This analysis is to see if any correlation exists between Christopher Walken's movie career and use of cowbell in popular music.\n",
    "\n",
    "![SegmentLocal](walken.gif \"segment\")"
   ]
  },
  {
   "cell_type": "markdown",
   "id": "a1af811e",
   "metadata": {},
   "source": [
    "# METHODOLOGY"
   ]
  },
  {
   "cell_type": "markdown",
   "id": "4dfdcb3d",
   "metadata": {},
   "source": [
    "# RESULTS"
   ]
  },
  {
   "cell_type": "code",
   "execution_count": 45,
   "id": "82f980d8",
   "metadata": {},
   "outputs": [],
   "source": [
    "# Import libraries\n",
    "\n",
    "import matplotlib.pyplot as plt\n",
    "import pandas as pd\n",
    "import numpy as np\n",
    "import seaborn as sns"
   ]
  },
  {
   "cell_type": "code",
   "execution_count": 46,
   "id": "5912c6af",
   "metadata": {},
   "outputs": [],
   "source": [
    "# Use pandas to read CSV\n",
    "walken = pd.read_csv('c_walken.csv')"
   ]
  },
  {
   "cell_type": "code",
   "execution_count": 47,
   "id": "97453adf",
   "metadata": {},
   "outputs": [
    {
     "data": {
      "text/html": [
       "<div>\n",
       "<style scoped>\n",
       "    .dataframe tbody tr th:only-of-type {\n",
       "        vertical-align: middle;\n",
       "    }\n",
       "\n",
       "    .dataframe tbody tr th {\n",
       "        vertical-align: top;\n",
       "    }\n",
       "\n",
       "    .dataframe thead th {\n",
       "        text-align: right;\n",
       "    }\n",
       "</style>\n",
       "<table border=\"1\" class=\"dataframe\">\n",
       "  <thead>\n",
       "    <tr style=\"text-align: right;\">\n",
       "      <th></th>\n",
       "      <th>Critics_Score</th>\n",
       "      <th>Audience_Score</th>\n",
       "      <th>Title</th>\n",
       "      <th>Character</th>\n",
       "      <th>Box_Revenue</th>\n",
       "      <th>Year</th>\n",
       "    </tr>\n",
       "  </thead>\n",
       "  <tbody>\n",
       "    <tr>\n",
       "      <th>0</th>\n",
       "      <td>0.29</td>\n",
       "      <td>0.85</td>\n",
       "      <td>The War With Grandpa</td>\n",
       "      <td>Jerry</td>\n",
       "      <td>$21.3M</td>\n",
       "      <td>2020</td>\n",
       "    </tr>\n",
       "    <tr>\n",
       "      <th>1</th>\n",
       "      <td>0.25</td>\n",
       "      <td>0.52</td>\n",
       "      <td>Wild Mountain Thyme</td>\n",
       "      <td>Tony Reilly</td>\n",
       "      <td>$194.9K</td>\n",
       "      <td>2020</td>\n",
       "    </tr>\n",
       "    <tr>\n",
       "      <th>2</th>\n",
       "      <td>0.20</td>\n",
       "      <td>NaN</td>\n",
       "      <td>The Jesus Rolls</td>\n",
       "      <td>Warden</td>\n",
       "      <td>NaN</td>\n",
       "      <td>2019</td>\n",
       "    </tr>\n",
       "    <tr>\n",
       "      <th>3</th>\n",
       "      <td>0.32</td>\n",
       "      <td>0.60</td>\n",
       "      <td>Irreplaceable You</td>\n",
       "      <td>Unknown</td>\n",
       "      <td>NaN</td>\n",
       "      <td>2018</td>\n",
       "    </tr>\n",
       "    <tr>\n",
       "      <th>4</th>\n",
       "      <td>0.17</td>\n",
       "      <td>0.25</td>\n",
       "      <td>Father Figures</td>\n",
       "      <td>Dr. Walter Tinkler</td>\n",
       "      <td>$16.8M</td>\n",
       "      <td>2017</td>\n",
       "    </tr>\n",
       "    <tr>\n",
       "      <th>...</th>\n",
       "      <td>...</td>\n",
       "      <td>...</td>\n",
       "      <td>...</td>\n",
       "      <td>...</td>\n",
       "      <td>...</td>\n",
       "      <td>...</td>\n",
       "    </tr>\n",
       "    <tr>\n",
       "      <th>106</th>\n",
       "      <td>0.96</td>\n",
       "      <td>0.92</td>\n",
       "      <td>Annie Hall</td>\n",
       "      <td>Duane Hall</td>\n",
       "      <td>NaN</td>\n",
       "      <td>1977</td>\n",
       "    </tr>\n",
       "    <tr>\n",
       "      <th>107</th>\n",
       "      <td>0.80</td>\n",
       "      <td>0.64</td>\n",
       "      <td>Next Stop, Greenwich Village</td>\n",
       "      <td>Robert Fulmer</td>\n",
       "      <td>NaN</td>\n",
       "      <td>1976</td>\n",
       "    </tr>\n",
       "    <tr>\n",
       "      <th>108</th>\n",
       "      <td>NaN</td>\n",
       "      <td>0.46</td>\n",
       "      <td>The Mind Snatchers</td>\n",
       "      <td>Privatz James H. Reese</td>\n",
       "      <td>NaN</td>\n",
       "      <td>1972</td>\n",
       "    </tr>\n",
       "    <tr>\n",
       "      <th>109</th>\n",
       "      <td>0.74</td>\n",
       "      <td>0.54</td>\n",
       "      <td>The Anderson Tapes</td>\n",
       "      <td>The Kid</td>\n",
       "      <td>NaN</td>\n",
       "      <td>1971</td>\n",
       "    </tr>\n",
       "    <tr>\n",
       "      <th>110</th>\n",
       "      <td>NaN</td>\n",
       "      <td>NaN</td>\n",
       "      <td>Barefoot in Athens</td>\n",
       "      <td>Lamprocles</td>\n",
       "      <td>NaN</td>\n",
       "      <td>1966</td>\n",
       "    </tr>\n",
       "  </tbody>\n",
       "</table>\n",
       "<p>111 rows × 6 columns</p>\n",
       "</div>"
      ],
      "text/plain": [
       "     Critics_Score  Audience_Score                         Title  \\\n",
       "0             0.29            0.85          The War With Grandpa   \n",
       "1             0.25            0.52           Wild Mountain Thyme   \n",
       "2             0.20             NaN               The Jesus Rolls   \n",
       "3             0.32            0.60             Irreplaceable You   \n",
       "4             0.17            0.25                Father Figures   \n",
       "..             ...             ...                           ...   \n",
       "106           0.96            0.92                    Annie Hall   \n",
       "107           0.80            0.64  Next Stop, Greenwich Village   \n",
       "108            NaN            0.46            The Mind Snatchers   \n",
       "109           0.74            0.54            The Anderson Tapes   \n",
       "110            NaN             NaN            Barefoot in Athens   \n",
       "\n",
       "                    Character Box_Revenue  Year  \n",
       "0                     Jerry        $21.3M  2020  \n",
       "1               Tony Reilly       $194.9K  2020  \n",
       "2                    Warden           NaN  2019  \n",
       "3                   Unknown           NaN  2018  \n",
       "4        Dr. Walter Tinkler        $16.8M  2017  \n",
       "..                        ...         ...   ...  \n",
       "106              Duane Hall           NaN  1977  \n",
       "107           Robert Fulmer           NaN  1976  \n",
       "108  Privatz James H. Reese           NaN  1972  \n",
       "109                 The Kid           NaN  1971  \n",
       "110              Lamprocles           NaN  1966  \n",
       "\n",
       "[111 rows x 6 columns]"
      ]
     },
     "execution_count": 47,
     "metadata": {},
     "output_type": "execute_result"
    }
   ],
   "source": [
    "# Check df\n",
    "walken"
   ]
  },
  {
   "cell_type": "code",
   "execution_count": 48,
   "id": "81d394a2",
   "metadata": {},
   "outputs": [
    {
     "name": "stdout",
     "output_type": "stream",
     "text": [
      "21300000.0\n",
      "Christopher Walken's movies have made a combined $2,170,409,000.0\n"
     ]
    },
    {
     "name": "stderr",
     "output_type": "stream",
     "text": [
      "C:\\Users\\annee\\AppData\\Local\\Temp/ipykernel_18088/3280905787.py:6: FutureWarning: The default value of regex will change from True to False in a future version. In addition, single character regular expressions will *not* be treated as literal strings when regex=True.\n",
      "  walken['box'] = walken['box'].str.replace('$', '')\n"
     ]
    }
   ],
   "source": [
    "# Copy Revenue column\n",
    "walken['box'] = walken['Box_Revenue']\n",
    "\n",
    "\n",
    "# Replace $ and - in copied column\n",
    "walken['box'] = walken['box'].str.replace('$', '')\n",
    "walken['box'] = walken['box'].str.replace('-', 'NaN')\n",
    "\n",
    "\n",
    "# Replace M and K with corresponding 0s\n",
    "walken['box'] = walken['box'].replace(r'[KM]+$', '', regex=True).astype(float) * \\\n",
    "(walken['box'].str.extract(r'[\\d\\.]+([KM]+)', expand=False).fillna(1).replace(['K','M'], [10**3, 10**6]).astype(int))\n",
    "\n",
    "\n",
    "# Check Work\n",
    "total_revenue = walken['box'].sum()\n",
    "total_formatted = \"{:,}\".format(total_revenue)\n",
    "\n",
    "print(walken['box'][0])\n",
    "print(f\"Christopher Walken's movies have made a combined ${total_formatted}\")"
   ]
  },
  {
   "cell_type": "code",
   "execution_count": 49,
   "id": "fe229a0f",
   "metadata": {},
   "outputs": [
    {
     "data": {
      "text/html": [
       "<div>\n",
       "<style scoped>\n",
       "    .dataframe tbody tr th:only-of-type {\n",
       "        vertical-align: middle;\n",
       "    }\n",
       "\n",
       "    .dataframe tbody tr th {\n",
       "        vertical-align: top;\n",
       "    }\n",
       "\n",
       "    .dataframe thead th {\n",
       "        text-align: right;\n",
       "    }\n",
       "</style>\n",
       "<table border=\"1\" class=\"dataframe\">\n",
       "  <thead>\n",
       "    <tr style=\"text-align: right;\">\n",
       "      <th></th>\n",
       "      <th>Critics_Score</th>\n",
       "      <th>Audience_Score</th>\n",
       "      <th>Title</th>\n",
       "      <th>Character</th>\n",
       "      <th>Box_Revenue</th>\n",
       "      <th>Year</th>\n",
       "      <th>box</th>\n",
       "      <th>year_sum</th>\n",
       "    </tr>\n",
       "  </thead>\n",
       "  <tbody>\n",
       "    <tr>\n",
       "      <th>0</th>\n",
       "      <td>0.29</td>\n",
       "      <td>0.85</td>\n",
       "      <td>The War With Grandpa</td>\n",
       "      <td>Jerry</td>\n",
       "      <td>$21.3M</td>\n",
       "      <td>2020</td>\n",
       "      <td>21300000.0</td>\n",
       "      <td>21494900.0</td>\n",
       "    </tr>\n",
       "    <tr>\n",
       "      <th>1</th>\n",
       "      <td>0.25</td>\n",
       "      <td>0.52</td>\n",
       "      <td>Wild Mountain Thyme</td>\n",
       "      <td>Tony Reilly</td>\n",
       "      <td>$194.9K</td>\n",
       "      <td>2020</td>\n",
       "      <td>194900.0</td>\n",
       "      <td>21494900.0</td>\n",
       "    </tr>\n",
       "    <tr>\n",
       "      <th>2</th>\n",
       "      <td>0.20</td>\n",
       "      <td>NaN</td>\n",
       "      <td>The Jesus Rolls</td>\n",
       "      <td>Warden</td>\n",
       "      <td>NaN</td>\n",
       "      <td>2019</td>\n",
       "      <td>NaN</td>\n",
       "      <td>0.0</td>\n",
       "    </tr>\n",
       "    <tr>\n",
       "      <th>3</th>\n",
       "      <td>0.32</td>\n",
       "      <td>0.60</td>\n",
       "      <td>Irreplaceable You</td>\n",
       "      <td>Unknown</td>\n",
       "      <td>NaN</td>\n",
       "      <td>2018</td>\n",
       "      <td>NaN</td>\n",
       "      <td>0.0</td>\n",
       "    </tr>\n",
       "    <tr>\n",
       "      <th>4</th>\n",
       "      <td>0.17</td>\n",
       "      <td>0.25</td>\n",
       "      <td>Father Figures</td>\n",
       "      <td>Dr. Walter Tinkler</td>\n",
       "      <td>$16.8M</td>\n",
       "      <td>2017</td>\n",
       "      <td>16800000.0</td>\n",
       "      <td>16800000.0</td>\n",
       "    </tr>\n",
       "    <tr>\n",
       "      <th>5</th>\n",
       "      <td>0.94</td>\n",
       "      <td>0.86</td>\n",
       "      <td>The Jungle Book</td>\n",
       "      <td>King Louie</td>\n",
       "      <td>$364.0M</td>\n",
       "      <td>2016</td>\n",
       "      <td>364000000.0</td>\n",
       "      <td>399400000.0</td>\n",
       "    </tr>\n",
       "    <tr>\n",
       "      <th>6</th>\n",
       "      <td>0.14</td>\n",
       "      <td>0.41</td>\n",
       "      <td>Nine Lives</td>\n",
       "      <td>Felix Perkins</td>\n",
       "      <td>$19.6M</td>\n",
       "      <td>2016</td>\n",
       "      <td>19600000.0</td>\n",
       "      <td>399400000.0</td>\n",
       "    </tr>\n",
       "    <tr>\n",
       "      <th>7</th>\n",
       "      <td>0.81</td>\n",
       "      <td>0.82</td>\n",
       "      <td>Eddie the Eagle</td>\n",
       "      <td>Warren Sharp</td>\n",
       "      <td>$15.8M</td>\n",
       "      <td>2016</td>\n",
       "      <td>15800000.0</td>\n",
       "      <td>399400000.0</td>\n",
       "    </tr>\n",
       "    <tr>\n",
       "      <th>8</th>\n",
       "      <td>0.10</td>\n",
       "      <td>0.21</td>\n",
       "      <td>Joe Dirt 2: Beautiful Loser</td>\n",
       "      <td>Clem</td>\n",
       "      <td>NaN</td>\n",
       "      <td>2015</td>\n",
       "      <td>NaN</td>\n",
       "      <td>240100.0</td>\n",
       "    </tr>\n",
       "    <tr>\n",
       "      <th>9</th>\n",
       "      <td>0.53</td>\n",
       "      <td>0.26</td>\n",
       "      <td>One More Time</td>\n",
       "      <td>Paul</td>\n",
       "      <td>NaN</td>\n",
       "      <td>2015</td>\n",
       "      <td>NaN</td>\n",
       "      <td>240100.0</td>\n",
       "    </tr>\n",
       "  </tbody>\n",
       "</table>\n",
       "</div>"
      ],
      "text/plain": [
       "   Critics_Score  Audience_Score                        Title  \\\n",
       "0           0.29            0.85         The War With Grandpa   \n",
       "1           0.25            0.52          Wild Mountain Thyme   \n",
       "2           0.20             NaN              The Jesus Rolls   \n",
       "3           0.32            0.60            Irreplaceable You   \n",
       "4           0.17            0.25               Father Figures   \n",
       "5           0.94            0.86              The Jungle Book   \n",
       "6           0.14            0.41                   Nine Lives   \n",
       "7           0.81            0.82              Eddie the Eagle   \n",
       "8           0.10            0.21  Joe Dirt 2: Beautiful Loser   \n",
       "9           0.53            0.26                One More Time   \n",
       "\n",
       "              Character Box_Revenue  Year          box     year_sum  \n",
       "0               Jerry        $21.3M  2020   21300000.0   21494900.0  \n",
       "1         Tony Reilly       $194.9K  2020     194900.0   21494900.0  \n",
       "2              Warden           NaN  2019          NaN          0.0  \n",
       "3             Unknown           NaN  2018          NaN          0.0  \n",
       "4  Dr. Walter Tinkler        $16.8M  2017   16800000.0   16800000.0  \n",
       "5           King Louie      $364.0M  2016  364000000.0  399400000.0  \n",
       "6       Felix Perkins        $19.6M  2016   19600000.0  399400000.0  \n",
       "7        Warren Sharp        $15.8M  2016   15800000.0  399400000.0  \n",
       "8                Clem           NaN  2015          NaN     240100.0  \n",
       "9                Paul           NaN  2015          NaN     240100.0  "
      ]
     },
     "execution_count": 49,
     "metadata": {},
     "output_type": "execute_result"
    }
   ],
   "source": [
    "# Add movie revenue if in the same year\n",
    "walken['year_sum'] = walken.groupby(['Year'])['box'].transform(sum)\n",
    "\n",
    "\n",
    "#Check work\n",
    "walken[:10]"
   ]
  },
  {
   "cell_type": "code",
   "execution_count": 50,
   "id": "be605bf5",
   "metadata": {},
   "outputs": [],
   "source": [
    "# Sort by box office totals\n",
    "box_sorted = walken.sort_values(by='box', ascending=True) "
   ]
  },
  {
   "cell_type": "code",
   "execution_count": 51,
   "id": "cc46bf58",
   "metadata": {},
   "outputs": [
    {
     "data": {
      "text/plain": [
       "<matplotlib.legend.Legend at 0x21a44235070>"
      ]
     },
     "execution_count": 51,
     "metadata": {},
     "output_type": "execute_result"
    },
    {
     "data": {
      "image/png": "[encoded data removed]",
      "text/plain": [
       "<Figure size 720x576 with 1 Axes>"
      ]
     },
     "metadata": {
      "needs_background": "light"
     },
     "output_type": "display_data"
    }
   ],
   "source": [
    "# Adjust size\n",
    "plt.figure(figsize=(10,8))\n",
    "\n",
    "\n",
    "\n",
    "# Title\n",
    "plt.title('Walken', pad=10, fontdict={'fontweight': 'bold', 'fontsize': 18})\n",
    "\n",
    "\n",
    "# X and Y Variables\n",
    "x = box_sorted.dropna(subset=['Critics_Score', 'Audience_Score', 'box']).Critics_Score * 100\n",
    "y = box_sorted.dropna(subset=['Critics_Score', 'Audience_Score', 'box']).box\n",
    "\n",
    "x2 = (box_sorted.dropna(subset=['Critics_Score', 'Audience_Score', 'box']).Audience_Score) * 100\n",
    "\n",
    "\n",
    "\n",
    "# X and Y Axis Labels\n",
    "plt.xlabel('score')\n",
    "plt.ylabel('USD') \n",
    "\n",
    "\n",
    "# Trendlines, Degree 1 for Line\n",
    "z = np.polyfit(x, y, 1)\n",
    "p = np.poly1d(z)\n",
    "\n",
    "\n",
    "# Information to Graph\n",
    "plt.plot(x, y, 'go', alpha=0.5, label='Critics Score')\n",
    "plt.plot(x2, y, 'bo', alpha=0.5, label='Audience Score')\n",
    "\n",
    "\n",
    "\n",
    "# Show legend\n",
    "plt.legend()\n",
    "\n"
   ]
  },
  {
   "cell_type": "code",
   "execution_count": 52,
   "id": "d180b967",
   "metadata": {},
   "outputs": [
    {
     "data": {
      "text/plain": [
       "[<matplotlib.lines.Line2D at 0x21a44c2e0a0>]"
      ]
     },
     "execution_count": 52,
     "metadata": {},
     "output_type": "execute_result"
    },
    {
     "data": {
      "image/png": "[encoded data removed]",
      "text/plain": [
       "<Figure size 1080x576 with 1 Axes>"
      ]
     },
     "metadata": {
      "needs_background": "light"
     },
     "output_type": "display_data"
    }
   ],
   "source": [
    "# Sort by year\n",
    "year_sorted = walken.sort_values(by='Year', ascending=True) \n",
    "\n",
    "\n",
    "plt.figure(figsize=(15,8))\n",
    "\n",
    "x = year_sorted['Year'].unique()\n",
    "y = year_sorted['Year'].value_counts().sort_index()\n",
    "\n",
    "\n",
    "\n",
    "plt.xticks(np.arange(min(x), max(x)+1, 3.0))\n",
    "\n",
    "plt.plot(x, y, marker='o')\n"
   ]
  },
  {
   "cell_type": "code",
   "execution_count": 53,
   "id": "8944fb71",
   "metadata": {},
   "outputs": [
    {
     "data": {
      "text/plain": [
       "(4236, 5)"
      ]
     },
     "execution_count": 53,
     "metadata": {},
     "output_type": "execute_result"
    }
   ],
   "source": [
    "# Import CSV of all cowbell songs\n",
    "songs = pd.read_csv('cowbell1_4247.csv')\n",
    "\n",
    "\n",
    "# Remove extra quote in string\n",
    "songs['Song'] = songs['Song'].str.replace('\"', '')\n",
    "songs['Song'][5]\n",
    "\n",
    "type(songs.Year[255])\n",
    "\n",
    "songs = songs.loc[songs[\"Year\"] != 0]\n",
    "songs = songs.loc[songs[\"Year\"] != 'nan']\n",
    "\n",
    "songs.shape"
   ]
  },
  {
   "cell_type": "code",
   "execution_count": 54,
   "id": "09b054d5",
   "metadata": {},
   "outputs": [
    {
     "data": {
      "text/plain": [
       "[<matplotlib.lines.Line2D at 0x21a43a59550>]"
      ]
     },
     "execution_count": 54,
     "metadata": {},
     "output_type": "execute_result"
    },
    {
     "data": {
      "image/png": "[encoded data removed]",
      "text/plain": [
       "<Figure size 1080x576 with 1 Axes>"
      ]
     },
     "metadata": {
      "needs_background": "light"
     },
     "output_type": "display_data"
    }
   ],
   "source": [
    "plt.figure(figsize=(15,8))\n",
    "\n",
    "x = songs.dropna(subset=['Year'])['Year'].unique()\n",
    "y = songs.dropna(subset=['Year'])['Year'].value_counts().sort_index()\n",
    "\n",
    "plt.xticks(np.arange(min(x), max(x)+1, 3.0))\n",
    "\n",
    "plt.plot(x, y, 'go')"
   ]
  },
  {
   "cell_type": "markdown",
   "id": "2da1fa03",
   "metadata": {},
   "source": [
    "# CONCLUSION"
   ]
  },
  {
   "cell_type": "code",
   "execution_count": null,
   "id": "c943e431",
   "metadata": {},
   "outputs": [],
   "source": []
  }
 ],
 "metadata": {
  "kernelspec": {
   "display_name": "Python 3 (ipykernel)",
   "language": "python",
   "name": "python3"
  },
  "language_info": {
   "codemirror_mode": {
    "name": "ipython",
    "version": 3
   },
   "file_extension": ".py",
   "mimetype": "text/x-python",
   "name": "python",
   "nbconvert_exporter": "python",
   "pygments_lexer": "ipython3",
   "version": "3.8.11"
  }
 },
 "nbformat": 4,
 "nbformat_minor": 5
}
